{
 "cells": [
  {
   "cell_type": "code",
   "execution_count": 230,
   "metadata": {},
   "outputs": [],
   "source": [
    "import collections\n",
    "from functools import total_ordering"
   ]
  },
  {
   "cell_type": "code",
   "execution_count": 231,
   "metadata": {},
   "outputs": [],
   "source": [
    "example = \"\"\"32T3K 765\n",
    "T55J5 684\n",
    "KK677 28\n",
    "KTJJT 220\n",
    "QQQJA 483\"\"\""
   ]
  },
  {
   "cell_type": "code",
   "execution_count": 232,
   "metadata": {},
   "outputs": [],
   "source": [
    "strengths = {c : 14-i for i, c in enumerate([*\"AKQJT98765432\"])}\n",
    "ranks = {b : a for a, b in strengths.items()}"
   ]
  },
  {
   "cell_type": "code",
   "execution_count": 244,
   "metadata": {},
   "outputs": [],
   "source": [
    "@total_ordering\n",
    "class Hand:\n",
    "    def __init__(self, hand_str):\n",
    "        self.hand = hand_str\n",
    "\n",
    "        self.hand_dict = collections.defaultdict(int)\n",
    "        for f in self.hand:\n",
    "            self.hand_dict[strengths[f]] += 1\n",
    "\n",
    "        self.hand_list = [strengths[c] for c in hand_str]\n",
    "\n",
    "        s_list = sorted(self.hand_dict.values(), reverse=True)\n",
    "        \n",
    "        if s_list == [5]:\n",
    "            self.strength = 20\n",
    "        elif s_list == [4, 1]:\n",
    "            self.strength = 19\n",
    "        elif s_list == [3, 2]:\n",
    "            self.strength = 18\n",
    "        elif s_list == [3, 1, 1]:\n",
    "            self.strength = 17\n",
    "        elif s_list == [2, 2, 1]:\n",
    "            self.strength = 16\n",
    "        elif s_list == [2, 1, 1, 1]:\n",
    "            self.strength = 15\n",
    "        else:\n",
    "            #self.strength = max(self.hand_list)\n",
    "            self.strength = 14\n",
    "\n",
    "    def __repr__(self):\n",
    "        return \"[\" + self.hand + \"]\"\n",
    "    \n",
    "    def __eq__(self, other):\n",
    "        if isinstance(other, Hand):\n",
    "            return self.hand_list == other.hand_list\n",
    "        else:\n",
    "            return False\n",
    "        \n",
    "    def __neq__(self, other):\n",
    "        if isinstance(other, Hand):\n",
    "            return not (self.hand_list == other.hand_list)\n",
    "        else:\n",
    "            return True\n",
    "        \n",
    "    def __lt__(self, other):\n",
    "        if isinstance(other, Hand):\n",
    "            if self.strength == other.strength:\n",
    "                # need to compare based on card position\n",
    "                for i, j in zip(self.hand_list, other.hand_list):\n",
    "                    if i == j:\n",
    "                        continue\n",
    "                    else:\n",
    "                        return i < j\n",
    "                return self == other\n",
    "            else:\n",
    "                return self.strength < other.strength\n",
    "        else:\n",
    "            raise(\"Bad comparison\")\n",
    "    \n"
   ]
  },
  {
   "cell_type": "code",
   "execution_count": 234,
   "metadata": {},
   "outputs": [
    {
     "name": "stdout",
     "output_type": "stream",
     "text": [
      "6440\n"
     ]
    }
   ],
   "source": [
    "hand_list = [[Hand(line.split()[0]), int(line.split()[1])] for line in example.splitlines()]\n",
    "print(sum([(ind+1)*hand[1] for ind, hand in enumerate(sorted(hand_list, key=lambda hand: hand[0]))]))"
   ]
  },
  {
   "cell_type": "code",
   "execution_count": 235,
   "metadata": {},
   "outputs": [
    {
     "name": "stdout",
     "output_type": "stream",
     "text": [
      "249726565\n"
     ]
    }
   ],
   "source": [
    "with open(\"input.txt\") as f:\n",
    "    input = f.read().splitlines()\n",
    "\n",
    "hand_list = [[Hand(line.split()[0]), int(line.split()[1])] for line in input]\n",
    "print(sum([(ind+1)*hand[1] for ind, hand in enumerate(sorted(hand_list, key=lambda hand: hand[0]))]))"
   ]
  },
  {
   "cell_type": "markdown",
   "metadata": {},
   "source": [
    "## Part 2"
   ]
  },
  {
   "cell_type": "code",
   "execution_count": 252,
   "metadata": {},
   "outputs": [],
   "source": [
    "strengths = {c : 13-i for i, c in enumerate([*\"AKQT98765432J\"])}\n",
    "ranks = {b : a for a, b in strengths.items()}\n",
    "hand_strengths = {\"[5]\" : 20, \"[4, 1]\" : 19, \"[3, 2]\" : 18, \"[3, 1, 1]\": 17,  \"[2, 2, 1]\" : 16, \"[2, 1, 1, 1]\": 15, \"[1, 1, 1, 1, 1]\": 14}"
   ]
  },
  {
   "cell_type": "code",
   "execution_count": 258,
   "metadata": {},
   "outputs": [],
   "source": [
    "@total_ordering\n",
    "class Hand:\n",
    "    def __init__(self, hand_str):\n",
    "        self.hand = hand_str\n",
    "\n",
    "        self.hand_dict = collections.defaultdict(int)\n",
    "        for f in self.hand:\n",
    "            self.hand_dict[strengths[f]] += 1\n",
    "\n",
    "        #want to implement joker rule, so just increment the most common card by the number of jokers\n",
    "        self.num_jokers = self.hand_dict.get(1, 0)\n",
    "        if self.num_jokers > 0:\n",
    "            if self.num_jokers != 5:\n",
    "                self.hand_dict.pop(1)\n",
    "                self.hand_dict[max(self.hand_dict, key=self.hand_dict.get)] += self.num_jokers\n",
    "\n",
    "        self.hand_list = [strengths[c] for c in hand_str]\n",
    "\n",
    "        \n",
    "        self.strength = hand_strengths.get(str(sorted(self.hand_dict.values(), reverse=True)), 14)\n",
    "    \n",
    "\n",
    "    def __repr__(self):\n",
    "        return \"[\" + self.hand + \"]\"\n",
    "    \n",
    "    def __eq__(self, other):\n",
    "        if isinstance(other, Hand):\n",
    "            return self.hand_list == other.hand_list\n",
    "        else:\n",
    "            return False\n",
    "        \n",
    "    def __neq__(self, other):\n",
    "        if isinstance(other, Hand):\n",
    "            return not (self.hand_list == other.hand_list)\n",
    "        else:\n",
    "            return True\n",
    "        \n",
    "    def __lt__(self, other):\n",
    "        if isinstance(other, Hand):\n",
    "            if self.strength == other.strength:\n",
    "                # need to compare based on card position\n",
    "                for i, j in zip(self.hand_list, other.hand_list):\n",
    "                    if i == j:\n",
    "                        continue\n",
    "                    else:\n",
    "                        return i < j\n",
    "                return self == other\n",
    "            else:\n",
    "                return self.strength < other.strength\n",
    "        else:\n",
    "            raise(\"Bad comparison\")\n",
    "    \n"
   ]
  },
  {
   "cell_type": "code",
   "execution_count": 259,
   "metadata": {},
   "outputs": [
    {
     "name": "stdout",
     "output_type": "stream",
     "text": [
      "5905\n"
     ]
    }
   ],
   "source": [
    "hand_list = [[Hand(line.split()[0]), int(line.split()[1])] for line in example.splitlines()]\n",
    "print(sum([(ind+1)*hand[1] for ind, hand in enumerate(sorted(hand_list, key=lambda hand: hand[0]))]))"
   ]
  },
  {
   "cell_type": "code",
   "execution_count": 260,
   "metadata": {},
   "outputs": [
    {
     "name": "stdout",
     "output_type": "stream",
     "text": [
      "251135960\n"
     ]
    }
   ],
   "source": [
    "with open(\"input.txt\") as f:\n",
    "    input = f.read().splitlines()\n",
    "\n",
    "hand_list = [[Hand(line.split()[0]), int(line.split()[1])] for line in input]\n",
    "print(sum([(ind+1)*hand[1] for ind, hand in enumerate(sorted(hand_list, key=lambda hand: hand[0]))]))"
   ]
  },
  {
   "cell_type": "code",
   "execution_count": 264,
   "metadata": {},
   "outputs": [
    {
     "name": "stdout",
     "output_type": "stream",
     "text": [
      "blah\n",
      "meh\n",
      "duh\n"
     ]
    }
   ],
   "source": [
    "tmp = [\"blah\", \"meh\", \"duh\"]\n",
    "print('\\n'.join(tmp))"
   ]
  },
  {
   "cell_type": "code",
   "execution_count": null,
   "metadata": {},
   "outputs": [],
   "source": []
  }
 ],
 "metadata": {
  "kernelspec": {
   "display_name": "statistical-rethinking-2023",
   "language": "python",
   "name": "python3"
  },
  "language_info": {
   "codemirror_mode": {
    "name": "ipython",
    "version": 3
   },
   "file_extension": ".py",
   "mimetype": "text/x-python",
   "name": "python",
   "nbconvert_exporter": "python",
   "pygments_lexer": "ipython3",
   "version": "3.10.12"
  }
 },
 "nbformat": 4,
 "nbformat_minor": 2
}
