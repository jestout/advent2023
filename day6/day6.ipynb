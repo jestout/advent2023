{
 "cells": [
  {
   "cell_type": "code",
   "execution_count": 5,
   "metadata": {},
   "outputs": [],
   "source": [
    "import numpy as np"
   ]
  },
  {
   "cell_type": "code",
   "execution_count": 27,
   "metadata": {},
   "outputs": [],
   "source": [
    "def win(ttot, dbeat):\n",
    "    a = np.sqrt(ttot**2 - 4*dbeat)\n",
    "    p_lower = ttot/2 - a/2\n",
    "    p_upper = ttot/2 + a/2\n",
    "    print(p_lower, \" \", p_upper)\n",
    "    if np.abs(int(p_lower) - p_lower) < 1e-5:  \n",
    "        return range(int(np.ceil(p_lower))+1, int(np.ceil(p_upper)))\n",
    "    else:\n",
    "        return range(int(np.ceil(p_lower)), int(np.ceil(p_upper)))"
   ]
  },
  {
   "cell_type": "code",
   "execution_count": 34,
   "metadata": {},
   "outputs": [
    {
     "name": "stdout",
     "output_type": "stream",
     "text": [
      "4.911286003846964   50.08871399615303\n",
      "25.508066615170332   56.491933384829665\n",
      "28.535898384862247   35.46410161513776\n",
      "14.76756708433805   75.23243291566195\n"
     ]
    },
    {
     "data": {
      "text/plain": [
       "608902"
      ]
     },
     "execution_count": 34,
     "metadata": {},
     "output_type": "execute_result"
    }
   ],
   "source": [
    "len(win(55, 246)) * len(win(82, 1441)) * len(win(64, 1012)) * len(win(90, 1111))"
   ]
  },
  {
   "cell_type": "code",
   "execution_count": 35,
   "metadata": {},
   "outputs": [
    {
     "name": "stdout",
     "output_type": "stream",
     "text": [
      "13.146551542253292   71516.85344845775\n"
     ]
    },
    {
     "data": {
      "text/plain": [
       "71503"
      ]
     },
     "execution_count": 35,
     "metadata": {},
     "output_type": "execute_result"
    }
   ],
   "source": [
    "len(win(71530, 940200))"
   ]
  },
  {
   "cell_type": "code",
   "execution_count": 38,
   "metadata": {},
   "outputs": [
    {
     "name": "stdout",
     "output_type": "stream",
     "text": [
      "4826340.99991991   51000149.000080094\n"
     ]
    },
    {
     "data": {
      "text/plain": [
       "46173809"
      ]
     },
     "execution_count": 38,
     "metadata": {},
     "output_type": "execute_result"
    }
   ],
   "source": [
    "len(win(55826490, 246144110121111))"
   ]
  },
  {
   "cell_type": "code",
   "execution_count": null,
   "metadata": {},
   "outputs": [],
   "source": []
  }
 ],
 "metadata": {
  "kernelspec": {
   "display_name": "statistical-rethinking-2023",
   "language": "python",
   "name": "python3"
  },
  "language_info": {
   "codemirror_mode": {
    "name": "ipython",
    "version": 3
   },
   "file_extension": ".py",
   "mimetype": "text/x-python",
   "name": "python",
   "nbconvert_exporter": "python",
   "pygments_lexer": "ipython3",
   "version": "3.10.12"
  }
 },
 "nbformat": 4,
 "nbformat_minor": 2
}
