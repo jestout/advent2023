{
 "cells": [
  {
   "cell_type": "code",
   "execution_count": 1,
   "metadata": {},
   "outputs": [],
   "source": [
    "import numpy as np\n",
    "import re"
   ]
  },
  {
   "cell_type": "code",
   "execution_count": null,
   "metadata": {},
   "outputs": [],
   "source": [
    "def process_game(line):\n",
    "    head, games = line.removesuffix(\"\\n\").split(\":\")\n",
    "\n",
    "    games = games.split(\";\")\n",
    "\n",
    "    game_id = int(head.removeprefix(\"Game \"))\n",
    "\n",
    "    game_list = []\n",
    "\n",
    "    for g in games:\n",
    "        g = g.strip()\n",
    "        red = re.findall(\"\\d+ r\", g)\n",
    "        green = re.findall(\"\\d+ g\", g)\n",
    "        blue = re.findall(\"\\d+ b\", g)\n",
    "\n",
    "        n_red = int(red[0].removesuffix(\" r\")) if len(red) != 0 else 0\n",
    "        n_green = int(green[0].removesuffix(\" g\")) if len(green) != 0 else 0\n",
    "        n_blue = int(blue[0].removesuffix(\" b\")) if len(blue) !=0 else 0\n",
    "\n",
    "        game_list.append(np.array([n_red, n_green, n_blue]))\n",
    "\n",
    "        \n",
    "    return [game_id, game_list]\n"
   ]
  },
  {
   "cell_type": "code",
   "execution_count": 86,
   "metadata": {},
   "outputs": [],
   "source": [
    "def get_games(filename):\n",
    "    with open(filename) as f:\n",
    "        input = f.readlines()\n",
    "\n",
    "        all_games = []\n",
    "        for line in input:\n",
    "            all_games.append(process_game(line))\n",
    "        \n",
    "    return all_games"
   ]
  },
  {
   "cell_type": "code",
   "execution_count": 65,
   "metadata": {},
   "outputs": [],
   "source": [
    "def valid_game(max_cubes, game):\n",
    "    return np.all(game[1] <= np.array(max_cubes))    \n"
   ]
  },
  {
   "cell_type": "code",
   "execution_count": 91,
   "metadata": {},
   "outputs": [
    {
     "data": {
      "text/plain": [
       "2879"
      ]
     },
     "execution_count": 91,
     "metadata": {},
     "output_type": "execute_result"
    }
   ],
   "source": [
    "sum = 0\n",
    "\n",
    "games = get_games(\"input.txt\")\n",
    "\n",
    "for g in games:\n",
    "    sum += g[0] if valid_game([12,13,14], g) else 0\n",
    "\n",
    "sum"
   ]
  },
  {
   "cell_type": "code",
   "execution_count": 99,
   "metadata": {},
   "outputs": [],
   "source": [
    "def get_min_cubes(game):\n",
    "    return np.array(game[1]).max(axis=0)"
   ]
  },
  {
   "cell_type": "code",
   "execution_count": 92,
   "metadata": {},
   "outputs": [],
   "source": [
    "def cube_power(cube):\n",
    "    return np.prod(cube)"
   ]
  },
  {
   "cell_type": "code",
   "execution_count": 102,
   "metadata": {},
   "outputs": [
    {
     "data": {
      "text/plain": [
       "65122"
      ]
     },
     "execution_count": 102,
     "metadata": {},
     "output_type": "execute_result"
    }
   ],
   "source": [
    "sum = 0\n",
    "\n",
    "games = get_games(\"input.txt\")\n",
    "\n",
    "for g in games:\n",
    "    sum += cube_power(get_min_cubes(g))\n",
    "\n",
    "sum"
   ]
  }
 ],
 "metadata": {
  "kernelspec": {
   "display_name": "statistical-rethinking-2023",
   "language": "python",
   "name": "python3"
  },
  "language_info": {
   "codemirror_mode": {
    "name": "ipython",
    "version": 3
   },
   "file_extension": ".py",
   "mimetype": "text/x-python",
   "name": "python",
   "nbconvert_exporter": "python",
   "pygments_lexer": "ipython3",
   "version": "3.10.12"
  }
 },
 "nbformat": 4,
 "nbformat_minor": 2
}
