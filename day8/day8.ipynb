{
 "cells": [
  {
   "cell_type": "code",
   "execution_count": 142,
   "metadata": {},
   "outputs": [],
   "source": [
    "import itertools\n",
    "import numpy as np"
   ]
  },
  {
   "cell_type": "code",
   "execution_count": 2,
   "metadata": {},
   "outputs": [],
   "source": [
    "example = \"\"\"LLR\n",
    "\n",
    "AAA = (BBB, BBB)\n",
    "BBB = (AAA, ZZZ)\n",
    "ZZZ = (ZZZ, ZZZ)\"\"\""
   ]
  },
  {
   "cell_type": "code",
   "execution_count": 3,
   "metadata": {},
   "outputs": [],
   "source": [
    "input = example.splitlines()"
   ]
  },
  {
   "cell_type": "code",
   "execution_count": 4,
   "metadata": {},
   "outputs": [],
   "source": [
    "with open(\"input.txt\") as f:\n",
    "    input = f.read().splitlines()"
   ]
  },
  {
   "cell_type": "code",
   "execution_count": 8,
   "metadata": {},
   "outputs": [
    {
     "name": "stdout",
     "output_type": "stream",
     "text": [
      "12083\n",
      "ZZZ\n"
     ]
    }
   ],
   "source": [
    "instruct = input[0]\n",
    "map_dict = {entry[0:3] : (entry[7:10], entry[12:15]) for entry in input[2:]}\n",
    "\n",
    "steps = 0\n",
    "key = 'AAA'\n",
    "\n",
    "for c in itertools.cycle(instruct):\n",
    "    steps += 1\n",
    "    if c == 'L':\n",
    "        key = map_dict[key][0]\n",
    "    elif c == 'R':\n",
    "        key = map_dict[key][1]\n",
    "    else:\n",
    "        break\n",
    "\n",
    "    if key == 'ZZZ' or steps > 1e6:\n",
    "        break\n",
    "\n",
    "print(steps)\n",
    "print(key)"
   ]
  },
  {
   "cell_type": "markdown",
   "metadata": {},
   "source": [
    "## Part 2"
   ]
  },
  {
   "cell_type": "code",
   "execution_count": 154,
   "metadata": {},
   "outputs": [],
   "source": [
    "example = \"\"\"LR\n",
    "\n",
    "11A = (11B, XXX)\n",
    "11B = (XXX, 11Z)\n",
    "11Z = (11B, XXX)\n",
    "22A = (22B, XXX)\n",
    "22B = (22C, 22C)\n",
    "22C = (22Z, 22Z)\n",
    "22Z = (22B, 22B)\n",
    "XXX = (XXX, XXX)\"\"\"\n",
    "\n",
    "input = example.splitlines()"
   ]
  },
  {
   "cell_type": "code",
   "execution_count": 155,
   "metadata": {},
   "outputs": [],
   "source": [
    "instruct = input[0]\n",
    "map_dict = {entry[0:3] : (entry[7:10], entry[12:15]) for entry in input[2:]}\n",
    "keys_in = [key for key in map_dict.keys() if key[-1] == 'A']\n",
    "keys_out = [key for key in map_dict.keys() if key[-1] == 'Z']"
   ]
  },
  {
   "cell_type": "code",
   "execution_count": 156,
   "metadata": {},
   "outputs": [
    {
     "name": "stdout",
     "output_type": "stream",
     "text": [
      "['11A', '22A'] ['11Z', '22Z']\n"
     ]
    }
   ],
   "source": [
    "print(keys_in, keys_out)"
   ]
  },
  {
   "cell_type": "code",
   "execution_count": 157,
   "metadata": {},
   "outputs": [],
   "source": [
    "def get_min_steps(key_in, key_out, instructions, map_dict, step_limit = 1e5):\n",
    "    key = key_in\n",
    "    steps = 0\n",
    "\n",
    "    for c in itertools.cycle(instruct):\n",
    "        steps += 1\n",
    "\n",
    "        if steps > step_limit:\n",
    "            raise Exception(\"Exceeded step limit\")\n",
    "        \n",
    "        d = 0 if c == 'L' else 1\n",
    "        key = map_dict[key][d]\n",
    "\n",
    "        if key == key_out:\n",
    "            break\n",
    "    \n",
    "    return steps"
   ]
  },
  {
   "cell_type": "code",
   "execution_count": 158,
   "metadata": {},
   "outputs": [
    {
     "name": "stdout",
     "output_type": "stream",
     "text": [
      "[['11A', '11Z', 2], ['22A', '22Z', 3]] \n",
      " [['11Z', '11Z', 2], ['22Z', '22Z', 3]]\n"
     ]
    }
   ],
   "source": [
    "in_steps = []\n",
    "out_steps = []\n",
    "\n",
    "for (k_in, k_out) in itertools.product(keys_in, keys_out):\n",
    "    try:\n",
    "        in_steps.append([k_in, k_out, get_min_steps(k_in, k_out, instruct, map_dict)])\n",
    "    except:\n",
    "        pass\n",
    "\n",
    "for (k_in, k_out) in itertools.product(keys_out, keys_out):\n",
    "    try:\n",
    "        out_steps.append([k_in, k_out, get_min_steps(k_in, k_out, instruct, map_dict)])\n",
    "    except:\n",
    "        pass\n",
    "\n",
    "print(in_steps, \"\\n\", out_steps)"
   ]
  },
  {
   "cell_type": "code",
   "execution_count": 98,
   "metadata": {},
   "outputs": [],
   "source": [
    "with open(\"input.txt\") as f:\n",
    "    input = f.read().splitlines()"
   ]
  },
  {
   "cell_type": "code",
   "execution_count": 99,
   "metadata": {},
   "outputs": [],
   "source": [
    "instruct = input[0]\n",
    "map_dict = {entry[0:3] : (entry[7:10], entry[12:15]) for entry in input[2:]}\n",
    "keys_in = [key for key in map_dict.keys() if key[-1] == 'A']\n",
    "keys_out = [key for key in map_dict.keys() if key[-1] == 'Z']"
   ]
  },
  {
   "cell_type": "code",
   "execution_count": 100,
   "metadata": {},
   "outputs": [
    {
     "name": "stdout",
     "output_type": "stream",
     "text": [
      "['FSA', 'JVA', 'QXA', 'KNA', 'AAA', 'FXA'] \n",
      " ['CJZ', 'ZZZ', 'SLZ', 'QCZ', 'PFZ', 'GNZ']\n"
     ]
    }
   ],
   "source": [
    "print(keys_in, \"\\n\", keys_out)"
   ]
  },
  {
   "cell_type": "code",
   "execution_count": 145,
   "metadata": {},
   "outputs": [],
   "source": [
    "in_steps = []\n",
    "\n",
    "for (k_in, k_out) in itertools.product(keys_in, keys_out):\n",
    "    try:\n",
    "        in_steps.append([k_in, k_out, get_min_steps(k_in, k_out, instruct, map_dict)])\n",
    "    except:\n",
    "        pass"
   ]
  },
  {
   "cell_type": "code",
   "execution_count": 128,
   "metadata": {},
   "outputs": [
    {
     "name": "stdout",
     "output_type": "stream",
     "text": [
      "[['FSA', 'QCZ', 20513], ['JVA', 'CJZ', 18827], ['QXA', 'PFZ', 17141], ['KNA', 'GNZ', 22199], ['AAA', 'ZZZ', 12083], ['FXA', 'SLZ', 13207]]\n"
     ]
    }
   ],
   "source": [
    "print(in_steps)"
   ]
  },
  {
   "cell_type": "code",
   "execution_count": 129,
   "metadata": {},
   "outputs": [
    {
     "data": {
      "text/plain": [
       "[0, 0, 0, 0, 0, 0]"
      ]
     },
     "execution_count": 129,
     "metadata": {},
     "output_type": "execute_result"
    }
   ],
   "source": [
    "[i[-1] % len(instruct) for i in in_steps]"
   ]
  },
  {
   "cell_type": "code",
   "execution_count": 135,
   "metadata": {},
   "outputs": [
    {
     "name": "stdout",
     "output_type": "stream",
     "text": [
      "[['CJZ', 'CJZ', 18827], ['ZZZ', 'ZZZ', 12083], ['SLZ', 'SLZ', 13207], ['QCZ', 'QCZ', 20513], ['PFZ', 'PFZ', 17141], ['GNZ', 'GNZ', 22199]]\n"
     ]
    }
   ],
   "source": [
    "out_steps = []\n",
    "\n",
    "for (k_in, k_out) in itertools.product(keys_out, keys_out):\n",
    "    try:\n",
    "        out_steps.append([k_in, k_out, get_min_steps(k_in, k_out, instruct, map_dict)])\n",
    "    except:\n",
    "        pass\n",
    "\n",
    "print(out_steps)"
   ]
  },
  {
   "cell_type": "code",
   "execution_count": 132,
   "metadata": {},
   "outputs": [
    {
     "data": {
      "text/plain": [
       "[0, 0, 0, 0, 0, 0]"
      ]
     },
     "execution_count": 132,
     "metadata": {},
     "output_type": "execute_result"
    }
   ],
   "source": [
    "[i[-1] % len(instruct) for i in out_steps]"
   ]
  },
  {
   "cell_type": "markdown",
   "metadata": {},
   "source": [
    "So, this problem is made MUCH easier by the fact that there's really only one instruction, since each of the xxA's are connected to the xxZ's by an integer multiple of instruct and each of the xxZ's are connected to themselves by an integer multiple of instruct "
   ]
  },
  {
   "cell_type": "code",
   "execution_count": 146,
   "metadata": {},
   "outputs": [
    {
     "name": "stdout",
     "output_type": "stream",
     "text": [
      "{'CJZ': 18827, 'ZZZ': 12083, 'SLZ': 13207, 'QCZ': 20513, 'PFZ': 17141, 'GNZ': 22199}\n"
     ]
    }
   ],
   "source": [
    "out_steps = {}\n",
    "\n",
    "for k_in in keys_out:\n",
    "    try:\n",
    "        out_steps[k_in] = get_min_steps(k_in, k_in, instruct, map_dict)\n",
    "    except:\n",
    "        pass\n",
    "\n",
    "print(out_steps)"
   ]
  },
  {
   "cell_type": "code",
   "execution_count": 147,
   "metadata": {},
   "outputs": [
    {
     "data": {
      "text/plain": [
       "[['FSA', 'QCZ', 20513, 20513],\n",
       " ['JVA', 'CJZ', 18827, 18827],\n",
       " ['QXA', 'PFZ', 17141, 17141],\n",
       " ['KNA', 'GNZ', 22199, 22199],\n",
       " ['AAA', 'ZZZ', 12083, 12083],\n",
       " ['FXA', 'SLZ', 13207, 13207]]"
      ]
     },
     "execution_count": 147,
     "metadata": {},
     "output_type": "execute_result"
    }
   ],
   "source": [
    "cycles = in_steps\n",
    "\n",
    "for i in cycles:\n",
    "    i.append(out_steps[i[1]])\n",
    "\n",
    "cycles"
   ]
  },
  {
   "cell_type": "markdown",
   "metadata": {},
   "source": [
    "Also made much easier by the fact that each subsequent cycle is the same length as the initial cycle needed. So we just want the lowest common multiple"
   ]
  },
  {
   "cell_type": "code",
   "execution_count": 150,
   "metadata": {},
   "outputs": [
    {
     "data": {
      "text/plain": [
       "13385272668829"
      ]
     },
     "execution_count": 150,
     "metadata": {},
     "output_type": "execute_result"
    }
   ],
   "source": [
    "np.lcm.reduce([i[-1] for i in cycles])"
   ]
  },
  {
   "cell_type": "code",
   "execution_count": null,
   "metadata": {},
   "outputs": [],
   "source": []
  }
 ],
 "metadata": {
  "kernelspec": {
   "display_name": "statistical-rethinking-2023",
   "language": "python",
   "name": "python3"
  },
  "language_info": {
   "codemirror_mode": {
    "name": "ipython",
    "version": 3
   },
   "file_extension": ".py",
   "mimetype": "text/x-python",
   "name": "python",
   "nbconvert_exporter": "python",
   "pygments_lexer": "ipython3",
   "version": "3.10.12"
  }
 },
 "nbformat": 4,
 "nbformat_minor": 2
}
