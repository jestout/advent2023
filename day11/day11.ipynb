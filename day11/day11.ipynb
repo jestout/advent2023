{
 "cells": [
  {
   "cell_type": "code",
   "execution_count": 6,
   "metadata": {},
   "outputs": [],
   "source": [
    "import numpy as np\n",
    "from itertools import combinations\n",
    "from operator import sub\n",
    "from functools import partial"
   ]
  },
  {
   "cell_type": "code",
   "execution_count": 7,
   "metadata": {},
   "outputs": [],
   "source": [
    "example = \"\"\"...#......\n",
    ".......#..\n",
    "#.........\n",
    "..........\n",
    "......#...\n",
    ".#........\n",
    ".........#\n",
    "..........\n",
    ".......#..\n",
    "#...#.....\"\"\""
   ]
  },
  {
   "cell_type": "code",
   "execution_count": 8,
   "metadata": {},
   "outputs": [],
   "source": [
    "tst = np.array([[*line] for line in example.splitlines()])"
   ]
  },
  {
   "cell_type": "code",
   "execution_count": 9,
   "metadata": {},
   "outputs": [],
   "source": [
    "def get_empties(obs):\n",
    "\n",
    "    row_loc = []\n",
    "    col_loc = []\n",
    "\n",
    "    for j, row in enumerate(obs):\n",
    "        if all(row == '.'):\n",
    "            row_loc.append(j)\n",
    "\n",
    "    for j, col in enumerate(obs.T):\n",
    "        if all(col == '.'):\n",
    "            col_loc.append(j)\n",
    "\n",
    "    return row_loc, col_loc\n"
   ]
  },
  {
   "cell_type": "code",
   "execution_count": 15,
   "metadata": {},
   "outputs": [],
   "source": [
    "def expand_map(obs):\n",
    "\n",
    "    row_loc = []\n",
    "    col_loc = []\n",
    "\n",
    "    for j, row in enumerate(obs):\n",
    "        if all(row == '.'):\n",
    "            row_loc.append(j)\n",
    "\n",
    "    for j, col in enumerate(obs.T):\n",
    "        if all(col == '.'):\n",
    "            col_loc.append(j)\n",
    "\n",
    "    obs = np.insert(obs, row_loc, obs[row_loc[0]], axis = 0)\n",
    "    obs = np.insert(obs, col_loc, obs[:, [col_loc[0]]], axis=1)\n",
    "\n",
    "    return obs\n"
   ]
  },
  {
   "cell_type": "code",
   "execution_count": 67,
   "metadata": {},
   "outputs": [],
   "source": [
    "expand_str = '\\n'.join([''.join(line) for line in expand_map(tst)])"
   ]
  },
  {
   "cell_type": "code",
   "execution_count": 69,
   "metadata": {},
   "outputs": [
    {
     "data": {
      "text/plain": [
       "True"
      ]
     },
     "execution_count": 69,
     "metadata": {},
     "output_type": "execute_result"
    }
   ],
   "source": [
    "expand_str == \"\"\"....#........\n",
    ".........#...\n",
    "#............\n",
    ".............\n",
    ".............\n",
    "........#....\n",
    ".#...........\n",
    "............#\n",
    ".............\n",
    ".............\n",
    ".........#...\n",
    "#....#.......\"\"\""
   ]
  },
  {
   "cell_type": "code",
   "execution_count": 11,
   "metadata": {},
   "outputs": [],
   "source": [
    "def sum_pair_distances(obs):\n",
    "    #find the galaxies\n",
    "    gal_loc = np.where(obs == '#')\n",
    "    return sum(sum(map(lambda x, y: abs(x - y), x, y)) for x, y in combinations(zip(*gal_loc), 2))\n",
    "        "
   ]
  },
  {
   "cell_type": "code",
   "execution_count": 13,
   "metadata": {},
   "outputs": [],
   "source": [
    "with open(\"input.txt\") as f:\n",
    "    input = f.read();\n",
    "\n",
    "obs_map = np.array([[*line] for line in input.splitlines()])"
   ]
  },
  {
   "cell_type": "code",
   "execution_count": 16,
   "metadata": {},
   "outputs": [
    {
     "data": {
      "text/plain": [
       "9648398"
      ]
     },
     "execution_count": 16,
     "metadata": {},
     "output_type": "execute_result"
    }
   ],
   "source": [
    "sum_pair_distances(expand_map(obs_map))"
   ]
  },
  {
   "cell_type": "code",
   "execution_count": 22,
   "metadata": {},
   "outputs": [],
   "source": [
    "def pair_distance(obs, buffer=1):\n",
    "    empty_rows, empty_cols = get_empties(obs)\n",
    "    gal_loc = np.where(obs == \"#\")\n",
    "\n",
    "    for x, y, in combinations(zip(*gal_loc), 2):\n",
    "        # find out how many empty rows and columns are between the two\n",
    "        corr_factor = sum(buffer for row in empty_rows if row > min(x[0], y[0]) and row < max(x[0], y[0])) + sum(buffer for col in empty_cols if col > min(x[1], y[1]) and col < max(x[1], y[1]))\n",
    "        yield sum(map(lambda x, y: abs(x - y), x, y)) + corr_factor\n"
   ]
  },
  {
   "cell_type": "code",
   "execution_count": 17,
   "metadata": {},
   "outputs": [],
   "source": [
    "it = pair_distance(obs_map, buffer=(1000000-1))"
   ]
  },
  {
   "cell_type": "code",
   "execution_count": 19,
   "metadata": {},
   "outputs": [],
   "source": [
    "empty_rows, empty_cols = get_empties(obs_map)"
   ]
  },
  {
   "cell_type": "code",
   "execution_count": 21,
   "metadata": {},
   "outputs": [
    {
     "data": {
      "text/plain": [
       "[55, 62, 69, 82, 104, 117]"
      ]
     },
     "execution_count": 21,
     "metadata": {},
     "output_type": "execute_result"
    }
   ],
   "source": [
    "[row for row in empty_rows if row > 53]"
   ]
  },
  {
   "cell_type": "code",
   "execution_count": null,
   "metadata": {},
   "outputs": [],
   "source": []
  },
  {
   "cell_type": "code",
   "execution_count": 23,
   "metadata": {},
   "outputs": [
    {
     "data": {
      "text/plain": [
       "4"
      ]
     },
     "execution_count": 23,
     "metadata": {},
     "output_type": "execute_result"
    }
   ],
   "source": [
    "2+2"
   ]
  },
  {
   "cell_type": "code",
   "execution_count": null,
   "metadata": {},
   "outputs": [],
   "source": []
  }
 ],
 "metadata": {
  "kernelspec": {
   "display_name": "statistical-rethinking-2023",
   "language": "python",
   "name": "python3"
  },
  "language_info": {
   "codemirror_mode": {
    "name": "ipython",
    "version": 3
   },
   "file_extension": ".py",
   "mimetype": "text/x-python",
   "name": "python",
   "nbconvert_exporter": "python",
   "pygments_lexer": "ipython3",
   "version": "3.10.12"
  }
 },
 "nbformat": 4,
 "nbformat_minor": 2
}
