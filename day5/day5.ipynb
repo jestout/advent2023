{
 "cells": [
  {
   "cell_type": "code",
   "execution_count": 1,
   "metadata": {},
   "outputs": [],
   "source": [
    "import parse\n",
    "import watermark \n",
    "import portion as por"
   ]
  },
  {
   "cell_type": "code",
   "execution_count": 2,
   "metadata": {},
   "outputs": [],
   "source": [
    "example = \"\"\"seeds: 79 14 55 13\n",
    "\n",
    "seed-to-soil map:\n",
    "50 98 2\n",
    "52 50 48\n",
    "\n",
    "soil-to-fertilizer map:\n",
    "0 15 37\n",
    "37 52 2\n",
    "39 0 15\n",
    "\n",
    "fertilizer-to-water map:\n",
    "49 53 8\n",
    "0 11 42\n",
    "42 0 7\n",
    "57 7 4\n",
    "\n",
    "water-to-light map:\n",
    "88 18 7\n",
    "18 25 70\n",
    "\n",
    "light-to-temperature map:\n",
    "45 77 23\n",
    "81 45 19\n",
    "68 64 13\n",
    "\n",
    "temperature-to-humidity map:\n",
    "0 69 1\n",
    "1 0 69\n",
    "\n",
    "humidity-to-location map:\n",
    "60 56 37\n",
    "56 93 4\"\"\""
   ]
  },
  {
   "cell_type": "code",
   "execution_count": 3,
   "metadata": {},
   "outputs": [],
   "source": [
    "def map_seed(seed, s):\n",
    "    instruct = parse.parse(\"{key1}-to-{key2} map:{maps}\", s)\n",
    "    loc_in = seed[instruct[\"key1\"]]\n",
    "    maps = instruct[\"maps\"].strip().splitlines()\n",
    "    updated = False\n",
    "\n",
    "    #print(instruct[\"key1\"])\n",
    "    #print(\"loc_in: \" + str(loc_in))\n",
    "\n",
    "    for m in maps:\n",
    "        out_start, in_start, map_range = [int(i) for i in m.split()]\n",
    "        #Check if loc_in is in the in_range\n",
    "        if loc_in in range(in_start, in_start + map_range):\n",
    "            seed[instruct[\"key2\"]] = loc_in - in_start + out_start\n",
    "            updated = True\n",
    "\n",
    "    if not updated:\n",
    "        seed[instruct[\"key2\"]] = seed[instruct[\"key1\"]]\n",
    "\n",
    "    return seed"
   ]
  },
  {
   "cell_type": "code",
   "execution_count": 5,
   "metadata": {},
   "outputs": [],
   "source": [
    "def seed_gen_ind(seed_sp):\n",
    "    for i in parse.parse(\"seeds: {}\", seed_sp)[0].split():\n",
    "        yield i"
   ]
  },
  {
   "cell_type": "code",
   "execution_count": 6,
   "metadata": {},
   "outputs": [],
   "source": [
    "def seed_gen_range(seed_sp):\n",
    "    seed_spec = [int(i) for i in parse.parse(\"seeds: {}\", seed_sp)[0].split()]\n",
    "    for i in range(0, len(seed_spec), 2):\n",
    "        for j in range(seed_spec[i], seed_spec[i] + seed_spec[i+1]):\n",
    "            yield j"
   ]
  },
  {
   "cell_type": "markdown",
   "metadata": {},
   "source": [
    "## Part 1"
   ]
  },
  {
   "cell_type": "code",
   "execution_count": 7,
   "metadata": {},
   "outputs": [
    {
     "name": "stdout",
     "output_type": "stream",
     "text": [
      "35\n"
     ]
    }
   ],
   "source": [
    "input = example.split(\"\\n\\n\")\n",
    "\n",
    "seed_list = [{\"seed\" : int(i)} for i in seed_gen_ind(input[0])]\n",
    "\n",
    "for seed in seed_list:\n",
    "    for map in input[1:]:\n",
    "        seed = map_seed(seed, map)\n",
    "\n",
    "print(min(seed[\"location\"] for seed in seed_list))"
   ]
  },
  {
   "cell_type": "code",
   "execution_count": 8,
   "metadata": {},
   "outputs": [
    {
     "name": "stdout",
     "output_type": "stream",
     "text": [
      "196167384\n"
     ]
    }
   ],
   "source": [
    "with open(\"input.txt\") as f:\n",
    "    input = f.read().split(\"\\n\\n\")\n",
    "\n",
    "seed_list = [{\"seed\" : int(i)} for i in seed_gen_ind(input[0])]\n",
    "\n",
    "for seed in seed_list:\n",
    "    for map in input[1:]:\n",
    "        seed = map_seed(seed, map)\n",
    "        #print(map)\n",
    "\n",
    "print(min(seed[\"location\"] for seed in seed_list))"
   ]
  },
  {
   "cell_type": "markdown",
   "metadata": {},
   "source": [
    "## Part 2"
   ]
  },
  {
   "cell_type": "code",
   "execution_count": 12,
   "metadata": {},
   "outputs": [],
   "source": [
    "def seed_gen_interval(seed_sp):\n",
    "    seed_spec = [int(i) for i in parse.parse(\"seeds: {}\", seed_sp)[0].split()]\n",
    "    tmp = por.empty()\n",
    "\n",
    "    for start, range in zip(seed_spec[::2], seed_spec[1::2]):\n",
    "        tmp = tmp.union(por.closedopen(start, start + range))\n",
    "        \n",
    "    return tmp"
   ]
  },
  {
   "cell_type": "code",
   "execution_count": 9,
   "metadata": {},
   "outputs": [],
   "source": [
    "def map_seed_int(seed, s):\n",
    "    instruct = parse.parse(\"{key1}-to-{key2} map:{maps}\", s)\n",
    "    in_terval = seed[instruct[\"key1\"]]\n",
    "    maps = instruct[\"maps\"].strip().splitlines()\n",
    "\n",
    "    total_mapped = por.empty()\n",
    "   \n",
    "    for map_spec in maps:\n",
    "        # Get the specs\n",
    "        out_start, in_start, m_range = [int(i) for i in map_spec.split()]\n",
    "        \n",
    "        # Compute the domain of the map and the bias\n",
    "        bias = out_start - in_start\n",
    "        dom_int = por.closedopen(in_start, in_start + m_range)\n",
    "       \n",
    "        # Figure out which of the interval is affected\n",
    "        aff_int = in_terval.intersection(dom_int)\n",
    "        # Add it to the total mapped interval\n",
    "        total_mapped =  total_mapped | aff_int.apply(lambda x: (x.left, x.lower + bias, x.upper + bias, x.right))\n",
    "        \n",
    "        # Remove it from the interval yet to be affected\n",
    "        in_terval = in_terval - aff_int\n",
    "\n",
    "    seed[instruct[\"key2\"]] = in_terval | total_mapped\n",
    "\n",
    "    return seed"
   ]
  },
  {
   "cell_type": "code",
   "execution_count": 20,
   "metadata": {},
   "outputs": [
    {
     "data": {
      "text/plain": [
       "46"
      ]
     },
     "execution_count": 20,
     "metadata": {},
     "output_type": "execute_result"
    }
   ],
   "source": [
    "input = example.split(\"\\n\\n\")\n",
    "\n",
    "seed = {\"seed\" : seed_gen_interval(input[0])}\n",
    "\n",
    "for map in input[1:]:\n",
    "    seed = map_seed_int(seed, map)\n",
    "\n",
    "\n",
    "seed[\"location\"].lower"
   ]
  },
  {
   "cell_type": "code",
   "execution_count": 22,
   "metadata": {},
   "outputs": [
    {
     "name": "stdout",
     "output_type": "stream",
     "text": [
      "31.8 ms ± 39.8 µs per loop (mean ± std. dev. of 7 runs, 10 loops each)\n"
     ]
    }
   ],
   "source": [
    "%%timeit\n",
    "with open(\"input.txt\") as f:\n",
    "    input = f.read().split(\"\\n\\n\")\n",
    "\n",
    "seed = {\"seed\" : seed_gen_interval(input[0])}\n",
    "\n",
    "for map in input[1:]:\n",
    "    seed = map_seed_int(seed, map)\n",
    "\n",
    "\n",
    "seed[\"location\"].lower"
   ]
  },
  {
   "cell_type": "code",
   "execution_count": null,
   "metadata": {},
   "outputs": [],
   "source": []
  }
 ],
 "metadata": {
  "kernelspec": {
   "display_name": "statistical-rethinking-2023",
   "language": "python",
   "name": "python3"
  },
  "language_info": {
   "codemirror_mode": {
    "name": "ipython",
    "version": 3
   },
   "file_extension": ".py",
   "mimetype": "text/x-python",
   "name": "python",
   "nbconvert_exporter": "python",
   "pygments_lexer": "ipython3",
   "version": "3.10.12"
  }
 },
 "nbformat": 4,
 "nbformat_minor": 2
}
