{
 "cells": [
  {
   "cell_type": "code",
   "execution_count": 1,
   "metadata": {},
   "outputs": [],
   "source": [
    "import re\n",
    "from operator import mul\n",
    "from functools import reduce"
   ]
  },
  {
   "cell_type": "code",
   "execution_count": 3,
   "metadata": {},
   "outputs": [],
   "source": [
    "def pad_input(input):\n",
    "    l = input.find(\"\\n\")\n",
    "    vert_pad = l*\".\" + \"\\n\" + input + \"\\n\" + l*\".\"\n",
    "    return \".\" + vert_pad.replace(\"\\n\", \".\\n.\") + \".\""
   ]
  },
  {
   "cell_type": "code",
   "execution_count": 23,
   "metadata": {},
   "outputs": [
    {
     "name": "stdout",
     "output_type": "stream",
     "text": [
      "............\n",
      ".467..114...\n",
      "....*.......\n",
      "...35..633..\n",
      ".......#....\n",
      ".617*.......\n",
      "......+.58..\n",
      "...592......\n",
      ".......755..\n",
      "....$.*.....\n",
      "..664.598...\n",
      "............\n"
     ]
    }
   ],
   "source": [
    "example = \"\"\"467..114..\n",
    "...*......\n",
    "..35..633.\n",
    "......#...\n",
    "617*......\n",
    ".....+.58.\n",
    "..592.....\n",
    "......755.\n",
    "...$.*....\n",
    ".664.598..\"\"\"\n",
    "\n",
    "schem = pad_input(example)\n",
    "print(schem)"
   ]
  },
  {
   "cell_type": "code",
   "execution_count": 30,
   "metadata": {},
   "outputs": [],
   "source": [
    "with open(\"input.txt\") as f:\n",
    "    schem = f.read()\n",
    "\n",
    "schem = pad_input(schem)"
   ]
  },
  {
   "cell_type": "code",
   "execution_count": 29,
   "metadata": {},
   "outputs": [],
   "source": [
    "def parse_dig(m, schem):\n",
    "    l = schem.find(\"\\n\")+1\n",
    "    s_above = schem[m.start()-l-1:m.end()-l+1]\n",
    "    s_below = schem[m.start()+l-1:m.end()+l+1]\n",
    "    s_l = schem[m.start()-1]\n",
    "    s_r = schem[m.end()]\n",
    "\n",
    "    gears = [(m.start()-l-1 + m2.start()) for m2 in re.finditer(\"[*]\", s_above)] + [(m.start()+l-1 + m2.start()) for m2 in re.finditer(\"[*]\", s_below)]\n",
    "    gears += [m.start()-1] if s_l == \"*\" else []\n",
    "    gears += [m.end()] if s_r == \"*\" else []\n",
    "\n",
    "    s_tot = s_above+s_l + s_r + s_below\n",
    "\n",
    "    return s_tot, gears\n"
   ]
  },
  {
   "cell_type": "code",
   "execution_count": 33,
   "metadata": {},
   "outputs": [
    {
     "name": "stdout",
     "output_type": "stream",
     "text": [
      "527144\n",
      "81463996\n"
     ]
    }
   ],
   "source": [
    "gear_dict = {}\n",
    "id_sum = 0\n",
    "\n",
    "for m in re.finditer(\"\\d+\", schem):\n",
    "    \n",
    "    num = int(m.group())\n",
    "    s_text, gears = parse_dig(m, schem)\n",
    "\n",
    "    for g in gears:\n",
    "        gear_dict.setdefault(g, set()).add(num)\n",
    "\n",
    "    if re.findall(\"[^.\\d]\", s_text):\n",
    "        id_sum += num\n",
    "\n",
    "print(id_sum)\n",
    "print(sum(reduce(mul, list(i)) if len(i) == 2 else 0 for i in gear_dict.values()))"
   ]
  },
  {
   "cell_type": "code",
   "execution_count": null,
   "metadata": {},
   "outputs": [],
   "source": []
  }
 ],
 "metadata": {
  "kernelspec": {
   "display_name": "statistical-rethinking-2023",
   "language": "python",
   "name": "python3"
  },
  "language_info": {
   "codemirror_mode": {
    "name": "ipython",
    "version": 3
   },
   "file_extension": ".py",
   "mimetype": "text/x-python",
   "name": "python",
   "nbconvert_exporter": "python",
   "pygments_lexer": "ipython3",
   "version": "3.10.12"
  }
 },
 "nbformat": 4,
 "nbformat_minor": 2
}
