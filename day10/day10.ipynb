{
 "cells": [
  {
   "cell_type": "code",
   "execution_count": 23,
   "metadata": {},
   "outputs": [],
   "source": [
    "import numpy as np\n",
    "from operator import add\n",
    "from functools import partial\n",
    "from operator import sub\n",
    "from itertools import accumulate"
   ]
  },
  {
   "cell_type": "code",
   "execution_count": 112,
   "metadata": {},
   "outputs": [],
   "source": [
    "example = \"\"\"..F7.\n",
    ".FJ|.\n",
    "SJ.L7\n",
    "|F--J\n",
    "LJ...\"\"\""
   ]
  },
  {
   "cell_type": "code",
   "execution_count": 113,
   "metadata": {},
   "outputs": [],
   "source": [
    "dir_dict = {\"|\": ((1, 0), (-1, 0)), \"-\" : ((0, 1), (0, -1)), \"L\" : ((0, 1), (-1, 0)), \"J\" : ((0, -1), (-1, 0)), \"7\" : ((1, 0), (0, -1)), \"F\" : ((1, 0), (0, 1))}"
   ]
  },
  {
   "cell_type": "code",
   "execution_count": 115,
   "metadata": {},
   "outputs": [
    {
     "data": {
      "text/plain": [
       "(2, 0)"
      ]
     },
     "execution_count": 115,
     "metadata": {},
     "output_type": "execute_result"
    }
   ],
   "source": [
    "tube_map = np.array([[*line] for line in example.splitlines()])\n",
    "start_pos = next(zip(*np.where(tube_map==\"S\")))\n",
    "start_pos"
   ]
  },
  {
   "cell_type": "code",
   "execution_count": 119,
   "metadata": {},
   "outputs": [],
   "source": [
    "def get_next_pos(start_pos, tube_map, start_direction):\n",
    "    #initialize\n",
    "    yield start_pos\n",
    "    last_pos = start_pos\n",
    "    current_pos = tuple(map(add, start_pos, start_direction)) #this is a tuple\n",
    "    # Need to figure out where to go\n",
    "    yield current_pos\n",
    "\n",
    "    while True:\n",
    "        #need to figure out where we are going\n",
    "        if tube_map[current_pos] == 'S':\n",
    "            return\n",
    "\n",
    "        next_pos = tuple(map(add, current_pos, dir_dict[tube_map[current_pos]][0]))\n",
    "        if next_pos == last_pos:\n",
    "            next_pos = tuple(map(add, current_pos, dir_dict[tube_map[current_pos]][1]))\n",
    "        last_pos = current_pos\n",
    "        current_pos = next_pos\n",
    "        yield current_pos"
   ]
  },
  {
   "cell_type": "code",
   "execution_count": 120,
   "metadata": {},
   "outputs": [
    {
     "data": {
      "text/plain": [
       "8"
      ]
     },
     "execution_count": 120,
     "metadata": {},
     "output_type": "execute_result"
    }
   ],
   "source": [
    "int((sum(1 for i in get_next_pos(start_pos, tube_map, (1, 0)))-1)/2)"
   ]
  },
  {
   "cell_type": "code",
   "execution_count": 7,
   "metadata": {},
   "outputs": [],
   "source": [
    "it = get_next_pos(start_pos, tube_map, (1, 0))"
   ]
  },
  {
   "cell_type": "code",
   "execution_count": 8,
   "metadata": {},
   "outputs": [
    {
     "name": "stdout",
     "output_type": "stream",
     "text": [
      "[['.' '.' 'F' '7' '.']\n",
      " ['.' 'F' 'J' '|' '.']\n",
      " ['S' 'J' '.' 'L' '7']\n",
      " ['*' 'F' '-' '-' 'J']\n",
      " ['L' 'J' '.' '.' '.']]\n"
     ]
    }
   ],
   "source": [
    "pos = next(it)\n",
    "map_tmp = tube_map.copy()\n",
    "map_tmp[pos] = \"*\"\n",
    "# map_tmp = '\\n'.join([''.join(line) for line in map_tmp])\n",
    "print(map_tmp)"
   ]
  },
  {
   "cell_type": "code",
   "execution_count": 121,
   "metadata": {},
   "outputs": [
    {
     "data": {
      "text/plain": [
       "(42, 8)"
      ]
     },
     "execution_count": 121,
     "metadata": {},
     "output_type": "execute_result"
    }
   ],
   "source": [
    "with open(\"input.txt\") as f:\n",
    "    tube_map = np.array([[*line] for line in f.read().splitlines()])\n",
    "    \n",
    "start_pos = next(zip(*np.where(tube_map==\"S\")))\n",
    "start_pos"
   ]
  },
  {
   "cell_type": "code",
   "execution_count": 122,
   "metadata": {},
   "outputs": [
    {
     "data": {
      "text/plain": [
       "6838"
      ]
     },
     "execution_count": 122,
     "metadata": {},
     "output_type": "execute_result"
    }
   ],
   "source": [
    "int((sum(1 for i in get_next_pos(start_pos, tube_map, (1, 0)))-1)/2)"
   ]
  },
  {
   "cell_type": "code",
   "execution_count": 141,
   "metadata": {},
   "outputs": [
    {
     "data": {
      "text/plain": [
       "(4, 12)"
      ]
     },
     "execution_count": 141,
     "metadata": {},
     "output_type": "execute_result"
    }
   ],
   "source": [
    "example = \"\"\".F----7F7F7F7F-7....\n",
    ".|F--7||||||||FJ....\n",
    ".||.FJ||||||||L7....\n",
    "FJL7L7LJLJ||LJ.L-7..\n",
    "L--J.L7...LJS7F-7L7.\n",
    "....F-J..F7FJ|L7L7L7\n",
    "....L7.F7||L7|.L7L7|\n",
    ".....|FJLJ|FJ|F7|.LJ\n",
    "....FJL-7.||.||||...\n",
    "....L---J.LJ.LJLJ...\"\"\"\n",
    "\n",
    "tube_map = np.array([[*line] for line in example.splitlines()])\n",
    "start_pos = next(zip(*np.where(tube_map==\"S\")))\n",
    "start_pos"
   ]
  },
  {
   "cell_type": "code",
   "execution_count": 140,
   "metadata": {},
   "outputs": [
    {
     "ename": "NameError",
     "evalue": "name 'poly_list' is not defined",
     "output_type": "error",
     "traceback": [
      "\u001b[0;31m---------------------------------------------------------------------------\u001b[0m",
      "\u001b[0;31mNameError\u001b[0m                                 Traceback (most recent call last)",
      "Cell \u001b[0;32mIn[140], line 3\u001b[0m\n\u001b[1;32m      1\u001b[0m cal_w(np\u001b[38;5;241m.\u001b[39marray([\u001b[38;5;241m4\u001b[39m, \u001b[38;5;241m7\u001b[39m]), np\u001b[38;5;241m.\u001b[39marray(\u001b[38;5;28mlist\u001b[39m(get_next_pos(start_pos, tube_map, (\u001b[38;5;241m1\u001b[39m, \u001b[38;5;241m0\u001b[39m)))))\n\u001b[1;32m      2\u001b[0m pt \u001b[38;5;241m=\u001b[39m np\u001b[38;5;241m.\u001b[39marray([\u001b[38;5;241m4\u001b[39m, \u001b[38;5;241m7\u001b[39m])\n\u001b[0;32m----> 3\u001b[0m ys \u001b[38;5;241m=\u001b[39m \u001b[43mpoly_list\u001b[49m[:, \u001b[38;5;241m1\u001b[39m]\n",
      "\u001b[0;31mNameError\u001b[0m: name 'poly_list' is not defined"
     ]
    }
   ],
   "source": [
    "cal_w(np.array([4, 7]), np.array(list(get_next_pos(start_pos, tube_map, (1, 0)))))\n",
    "verti\n",
    "pt = np.array([4, 7])\n",
    "ys = poly_list[:, 1]"
   ]
  },
  {
   "cell_type": "code",
   "execution_count": null,
   "metadata": {},
   "outputs": [],
   "source": [
    "def cal_w(pt, poly_list):\n",
    "    w = 0\n",
    "    y = pt[1]\n",
    "    ys = poly_list[:, 1]\n",
    "    for i in range(poly_list.shape[0]):\n",
    "        if ys[i-1] <= y:\n",
    "            if ys[i] > y:\n",
    "                if _is_right_side(pt, poly_list[i-1], poly_list[i]) > 0:\n",
    "                    w += 1\n",
    "        elif ys[i] <= y:\n",
    "            if _is_right_side(pt, poly_list[i-1], poly_list[i]) < 0:\n",
    "                w -= 1\n",
    "    return w\n",
    "\n",
    "\n",
    "def _is_right_side(pt, strt, end):\n",
    "    x, y, x0, y0, x1, y1 = *pt, *strt, *end\n",
    "    return (x1 - x0) * (y - y0) - (y1 - y0) * (x - x0)\n",
    "\n",
    "def in_interior(point, poly):    \n",
    "    return False if cal_w(point, poly) == 0 else True"
   ]
  },
  {
   "cell_type": "code",
   "execution_count": 139,
   "metadata": {},
   "outputs": [],
   "source": [
    "def cal_w(pt, poly_list):\n",
    "    w = 0\n",
    "    y = pt[1]\n",
    "    ys = poly_list[:, 1]\n",
    "    for i in range(poly_list.shape[0]):\n",
    "        if ys[i-1] <= y:\n",
    "            if ys[i] > y:\n",
    "                if _is_right_side(pt, poly_list[i-1], poly_list[i]) > 0:\n",
    "                    w += 1\n",
    "        elif ys[i] <= y:\n",
    "            if _is_right_side(pt, poly_list[i-1], poly_list[i]) < 0:\n",
    "                w -= 1\n",
    "    return w\n",
    "\n",
    "\n",
    "def _is_right_side(pt, strt, end):\n",
    "    x, y, x0, y0, x1, y1 = *pt, *strt, *end\n",
    "    return (x1 - x0) * (y - y0) - (y1 - y0) * (x - x0)\n",
    "\n",
    "def in_interior(point, poly):    \n",
    "    return False if cal_w(point, poly) == 0 else True"
   ]
  },
  {
   "cell_type": "code",
   "execution_count": null,
   "metadata": {},
   "outputs": [],
   "source": []
  },
  {
   "cell_type": "code",
   "execution_count": 130,
   "metadata": {},
   "outputs": [
    {
     "data": {
      "text/plain": [
       "451"
      ]
     },
     "execution_count": 130,
     "metadata": {},
     "output_type": "execute_result"
    }
   ],
   "source": [
    "with open(\"input.txt\") as f:\n",
    "    tube_map = np.array([[*line] for line in f.read().splitlines()])\n",
    "    \n",
    "start_pos = next(zip(*np.where(tube_map==\"S\")))\n",
    "\n",
    "loop_tup = [i for i in get_next_pos(start_pos, tube_map, (0, 1))]\n",
    "loop_array = np.array(loop_tup)\n",
    "\n",
    "num_interior = 0\n",
    "\n",
    "for i in range(tube_map.shape[0]):\n",
    "    for j in range(tube_map.shape[1]):\n",
    "        if (i, j) not in loop_tup:\n",
    "            if in_interior(np.array([i,j]), loop_array):\n",
    "                num_interior += 1\n",
    "        # else:\n",
    "        #     tst.append([i, j, in_interior(np.array([i,j]), loop_array)])\n",
    "\n",
    "num_interior\n"
   ]
  },
  {
   "cell_type": "code",
   "execution_count": null,
   "metadata": {},
   "outputs": [],
   "source": []
  }
 ],
 "metadata": {
  "kernelspec": {
   "display_name": "statistical-rethinking-2023",
   "language": "python",
   "name": "python3"
  },
  "language_info": {
   "codemirror_mode": {
    "name": "ipython",
    "version": 3
   },
   "file_extension": ".py",
   "mimetype": "text/x-python",
   "name": "python",
   "nbconvert_exporter": "python",
   "pygments_lexer": "ipython3",
   "version": "3.10.12"
  }
 },
 "nbformat": 4,
 "nbformat_minor": 2
}
