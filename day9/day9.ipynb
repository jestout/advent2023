{
 "cells": [
  {
   "cell_type": "code",
   "execution_count": 250,
   "metadata": {},
   "outputs": [],
   "source": [
    "import itertools\n",
    "import operator\n",
    "from collections.abc import Iterator"
   ]
  },
  {
   "cell_type": "code",
   "execution_count": 251,
   "metadata": {},
   "outputs": [],
   "source": [
    "example = \"\"\"0 3 6 9 12 15\n",
    "1 3 6 10 15 21\n",
    "10 13 16 21 30 45\"\"\""
   ]
  },
  {
   "cell_type": "code",
   "execution_count": 252,
   "metadata": {},
   "outputs": [],
   "source": [
    "class DiffIt(Iterator):\n",
    "    def __init__(self, sequence, start = 0):\n",
    "        self._sequence = sequence\n",
    "        self._index = start\n",
    "        self._differences = list(itertools.starmap(operator.sub, zip(sequence[1:], sequence[:])))\n",
    "        self._bottom = all(d == 0 for d in self._differences)\n",
    "\n",
    "        self._last_val = sequence[-1]\n",
    "\n",
    "        if self._bottom == False:\n",
    "            self._lower = DiffIt(self._differences, len(self._differences))\n",
    "\n",
    "    def __next__(self):\n",
    "        if self._bottom == True:\n",
    "            return self._last_val\n",
    "        else:\n",
    "            if self._index < len(self._sequence):\n",
    "                item = self._sequence[self._index]\n",
    "                self._index += 1\n",
    "                return item\n",
    "            else:\n",
    "                add_item = next(self._lower)\n",
    "                self._last_val = self._last_val + add_item\n",
    "                self._index +=1\n",
    "                \n",
    "                return self._last_val\n"
   ]
  },
  {
   "cell_type": "code",
   "execution_count": 258,
   "metadata": {},
   "outputs": [
    {
     "data": {
      "text/plain": [
       "114"
      ]
     },
     "execution_count": 258,
     "metadata": {},
     "output_type": "execute_result"
    }
   ],
   "source": [
    "reports = [[int(i) for i in line.split()] for line in example.splitlines()]\n",
    "sum(next(DiffIt(report, len(report))) for report in reports)"
   ]
  },
  {
   "cell_type": "code",
   "execution_count": null,
   "metadata": {},
   "outputs": [],
   "source": []
  },
  {
   "cell_type": "code",
   "execution_count": 259,
   "metadata": {},
   "outputs": [
    {
     "data": {
      "text/plain": [
       "1987402313"
      ]
     },
     "execution_count": 259,
     "metadata": {},
     "output_type": "execute_result"
    }
   ],
   "source": [
    "with open(\"input.txt\") as f:\n",
    "    reports = [[int(i) for i in line.split()] for line in f.read().splitlines()]\n",
    "\n",
    "sum(next(DiffIt(report, len(report))) for report in reports)"
   ]
  },
  {
   "cell_type": "code",
   "execution_count": 260,
   "metadata": {},
   "outputs": [
    {
     "data": {
      "text/plain": [
       "900"
      ]
     },
     "execution_count": 260,
     "metadata": {},
     "output_type": "execute_result"
    }
   ],
   "source": [
    "with open(\"input.txt\") as f:\n",
    "    reports = [[int(i) for i in line.split()] for line in f.read().splitlines()]\n",
    "\n",
    "sum(next(DiffIt(list(reversed(report)), len(report))) for report in reports)"
   ]
  },
  {
   "cell_type": "code",
   "execution_count": null,
   "metadata": {},
   "outputs": [],
   "source": [
    "DiffIt()"
   ]
  }
 ],
 "metadata": {
  "kernelspec": {
   "display_name": "statistical-rethinking-2023",
   "language": "python",
   "name": "python3"
  },
  "language_info": {
   "codemirror_mode": {
    "name": "ipython",
    "version": 3
   },
   "file_extension": ".py",
   "mimetype": "text/x-python",
   "name": "python",
   "nbconvert_exporter": "python",
   "pygments_lexer": "ipython3",
   "version": "3.10.12"
  }
 },
 "nbformat": 4,
 "nbformat_minor": 2
}
