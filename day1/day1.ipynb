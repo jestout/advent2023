{
 "cells": [
  {
   "cell_type": "code",
   "execution_count": 1,
   "metadata": {},
   "outputs": [],
   "source": [
    "import numpy as np"
   ]
  },
  {
   "cell_type": "code",
   "execution_count": 2,
   "metadata": {},
   "outputs": [],
   "source": [
    "input_file = open(\"input.txt\")\n",
    "input = input_file.readlines()\n",
    "input_file.close()"
   ]
  },
  {
   "cell_type": "code",
   "execution_count": 4,
   "metadata": {},
   "outputs": [],
   "source": [
    "def get_first_last(tst : str, repl_list):\n",
    "    first_num = [-1, len(tst)+1]\n",
    "    last_num = [-1, -1]\n",
    "\n",
    "    for word, digit in repl_list:\n",
    "        first_pos = tst.find(word)\n",
    "        if first_pos != -1 and first_pos < first_num[1]:\n",
    "            first_num = [digit, first_pos]\n",
    "        \n",
    "        last_pos = tst.rfind(word)\n",
    "        if last_pos != -1 and last_pos > last_num[1]:\n",
    "            last_num = [digit, last_pos]\n",
    "\n",
    "    return [first_num[0], last_num[0]]"
   ]
  },
  {
   "cell_type": "code",
   "execution_count": 6,
   "metadata": {},
   "outputs": [],
   "source": [
    "repl_list = [[str(i), i] for i in range(1, 10)]"
   ]
  },
  {
   "cell_type": "code",
   "execution_count": 7,
   "metadata": {},
   "outputs": [
    {
     "data": {
      "text/plain": [
       "54388"
      ]
     },
     "execution_count": 7,
     "metadata": {},
     "output_type": "execute_result"
    }
   ],
   "source": [
    "sum = 0\n",
    "\n",
    "for line in input:\n",
    "    int_tmp = get_first_last(line.replace('\\n', ''), repl_list)\n",
    "\n",
    "    sum += int_tmp[0]*10 + int_tmp[1]\n",
    "\n",
    "sum"
   ]
  },
  {
   "cell_type": "code",
   "execution_count": null,
   "metadata": {},
   "outputs": [],
   "source": [
    "num_word_list = [\"one\", \"two\", \"three\", \"four\", \"five\", \"six\", \"seven\", \"eight\", \"nine\"]\n",
    "repl_list = [[word, i+1] for i, word in enumerate(num_word_list)]\n",
    "repl_list = [[str(i), i] for i in range(1, 10)] + repl_list"
   ]
  },
  {
   "cell_type": "code",
   "execution_count": 5,
   "metadata": {},
   "outputs": [
    {
     "data": {
      "text/plain": [
       "53515"
      ]
     },
     "execution_count": 5,
     "metadata": {},
     "output_type": "execute_result"
    }
   ],
   "source": [
    "sum = 0\n",
    "\n",
    "for line in input:\n",
    "    int_tmp = get_first_last(line.replace('\\n', ''), repl_list)\n",
    "\n",
    "    sum += int_tmp[0]*10 + int_tmp[1]\n",
    "\n",
    "sum            "
   ]
  }
 ],
 "metadata": {
  "kernelspec": {
   "display_name": "statistical-rethinking-2023",
   "language": "python",
   "name": "python3"
  },
  "language_info": {
   "codemirror_mode": {
    "name": "ipython",
    "version": 3
   },
   "file_extension": ".py",
   "mimetype": "text/x-python",
   "name": "python",
   "nbconvert_exporter": "python",
   "pygments_lexer": "ipython3",
   "version": "3.10.12"
  }
 },
 "nbformat": 4,
 "nbformat_minor": 2
}
